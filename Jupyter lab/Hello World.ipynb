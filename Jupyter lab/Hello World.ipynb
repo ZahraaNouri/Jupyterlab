{
 "cells": [
  {
   "cell_type": "markdown",
   "id": "ebe58ece-5751-4d24-8dd3-5f9ed2ce31ee",
   "metadata": {},
   "source": [
    "## Hello World "
   ]
  },
  {
   "cell_type": "code",
   "execution_count": null,
   "id": "5200b331-c78d-47b6-9c4f-04c99c0ba533",
   "metadata": {},
   "outputs": [],
   "source": []
  }
 ],
 "metadata": {
  "kernelspec": {
   "display_name": "Python 3 (ipykernel)",
   "language": "python",
   "name": "python3"
  },
  "language_info": {
   "codemirror_mode": {
    "name": "ipython",
    "version": 3
   },
   "file_extension": ".py",
   "mimetype": "text/x-python",
   "name": "python",
   "nbconvert_exporter": "python",
   "pygments_lexer": "ipython3",
   "version": "3.12.5"
  }
 },
 "nbformat": 4,
 "nbformat_minor": 5
}
